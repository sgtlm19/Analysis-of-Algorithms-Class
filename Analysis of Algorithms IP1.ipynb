{
 "cells": [
  {
   "cell_type": "markdown",
   "metadata": {},
   "source": [
    "# Analysis of Algorithms Individual Project 1#\n",
    "## by Lorenz Madarang ##\n",
    "\n",
    "#### Part 1####\n",
    "You will build an in-place, order reversal algorithm. This algorithm will take as an input an array of ints and will reverse the order of the elements in the array, in place (essentially using only the memory in the array). For example, if the array contains five elements [1,2,3,4,5], the output of the algorithm will be [5,4,3,2,1]. Comment your program.\n",
    "\n",
    "#### Part 2####\n",
    "Using this prototype, you will analyze the time complexity and space complexity of your algorithm in the worst case. Specifically, for time complexity, count the number of steps for each line of code, and write down the total lines executed as a mathematical expression where n is the size of the input array. For space complexity, write an expression for the number of memory locations and components that are required for algorithm in the worst case. (Assume that each int is one location.)\n",
    "\n",
    "#### Part 3####\n",
    "Program a function, method or class that will track the true runtime of your algorithm. Find the true runtime of your algorithm using arrays of varying sizes (e.g., n = 500, n = 1,500, and n= 2,500) using your new tool. Plot, on a Cartesian plane, the runtime of your algorithm as a function of the size of the input array, n."
   ]
  },
  {
   "cell_type": "code",
   "execution_count": 6,
   "metadata": {},
   "outputs": [],
   "source": [
    "#Import Necessary Packages \n",
    "import random\n",
    "import matplotlib.pyplot as plt\n",
    "from timeit import default_timer as timer"
   ]
  },
  {
   "cell_type": "markdown",
   "metadata": {},
   "source": [
    "### Part 1: In-Place, Order Reversal Algorithm ###"
   ]
  },
  {
   "cell_type": "code",
   "execution_count": 1,
   "metadata": {},
   "outputs": [],
   "source": [
    "\n",
    "#Code taken from https://www.pythoncentral.io/python-reverse-list-place/",
    "def reverseList(array):\n",
    "    \"\"\" Takes a list of objects and then reverses the order of objects\"\"\"\n",
    "    \n",
    "    \n",
    "    left = 0                        #Initialize left pointer \n",
    "    right = len(array) - 1          #Initialize right pointer\n",
    "    \n",
    "    \n",
    "    while left < right:            \n",
    "        \n",
    "        temp = array[left]          #Create temp variable set to item indexed at left pointer\n",
    "        array[left] = array[right]  #Item indexed at left pointer is set to item indexed at right pointer\n",
    "        array[right] = temp         #Item indexed at right pointer is set to temp variable\n",
    "        \n",
    "        left += 1                   #Increment left pointer so it begins to move right toward the center\n",
    "        right -= 1                  #Decrement right pointer so it begins to move left toward the center\n",
    "        \n",
    "    return array\n",
    "\n",
    "               "
   ]
  },
  {
   "cell_type": "code",
   "execution_count": 2,
   "metadata": {},
   "outputs": [
    {
     "data": {
      "text/plain": [
       "[4, 1, 6, 5, 2, 3, 7]"
      ]
     },
     "execution_count": 2,
     "metadata": {},
     "output_type": "execute_result"
    }
   ],
   "source": [
    "reverseList([7,3,2,5,6,1,4])"
   ]
  },
  {
   "cell_type": "markdown",
   "metadata": {},
   "source": [
    "### Part 3: Function that Plots Runtime as a function of Array Size"
   ]
  },
  {
   "cell_type": "code",
   "execution_count": 3,
   "metadata": {},
   "outputs": [],
   "source": [
    "def plotTime(arraySizes):\n",
    "    \n",
    "    \"\"\" Takes an array of array sizes, iterates through the array and runs the reverseList function for each array size.\n",
    "        An array is created with the designated size and with unique random numbers within the range of the array size.\n",
    "        The time to complete the function is recorded an input in a list.  Finally, a plot is created showing the \n",
    "        relationship between the time it takes to complete the reverseList function and an array's size.\"\"\"\n",
    "    \n",
    "    times = []                                   #Create empty array for times\n",
    "    \n",
    "    for i in arraySizes:\n",
    "        array = random.sample(range(1, i+1), i)  #Create array with unique random numbers \n",
    "        start = timer()                          #Start timer\n",
    "        reverseList(array)                       #Perform reverseList function\n",
    "        end = timer()                            #End timer\n",
    "        times.append(end - start)                #Append the time it takes to complete function to 'times' array\n",
    "    \n",
    "    #Create Plot with array size on x-axis and times on the y-axis\n",
    "    x = arraySizes\n",
    "    y = times\n",
    "    plt.title('Time vs. Array Size')\n",
    "    plt.xlabel('Array Size')\n",
    "    plt.ylabel('Time, seconds ')\n",
    "    plt.plot(x,y)\n",
    "    plt.show()        "
   ]
  },
  {
   "cell_type": "code",
   "execution_count": 4,
   "metadata": {},
   "outputs": [],
   "source": [
    "#Array of Array Sizes\n",
    "sizeList = [50, 100, 150, 200, 250, 300, 350, 400, 450, 500]"
   ]
  },
  {
   "cell_type": "code",
   "execution_count": 8,
   "metadata": {},
   "outputs": [
    {
     "data": {
      "image/png": "[encoded data removed]",
      "text/plain": [
       "<Figure size 432x288 with 1 Axes>"
      ]
     },
     "metadata": {},
     "output_type": "display_data"
    }
   ],
   "source": [
    "#Plot of Runtime and Array Sizes\n",
    "plotTime(sizeList)"
   ]
  },
  {
   "cell_type": "code",
   "execution_count": null,
   "metadata": {},
   "outputs": [],
   "source": []
  }
 ],
 "metadata": {
  "kernelspec": {
   "display_name": "Python 3",
   "language": "python",
   "name": "python3"
  },
  "language_info": {
   "codemirror_mode": {
    "name": "ipython",
    "version": 3
   },
   "file_extension": ".py",
   "mimetype": "text/x-python",
   "name": "python",
   "nbconvert_exporter": "python",
   "pygments_lexer": "ipython3",
   "version": "3.6.5"
  }
 },
 "nbformat": 4,
 "nbformat_minor": 2
}
