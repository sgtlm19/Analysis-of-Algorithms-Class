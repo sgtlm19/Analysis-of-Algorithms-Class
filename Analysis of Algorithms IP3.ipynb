{
 "cells": [
  {
   "cell_type": "markdown",
   "metadata": {},
   "source": [
    "# Analysis of Algorithms Individual Project 3 #"
   ]
  },
  {
   "cell_type": "markdown",
   "metadata": {},
   "source": [
    "### By Lorenz Madarang ###"
   ]
  },
  {
   "cell_type": "markdown",
   "metadata": {},
   "source": [
    "#### Prompt ####\n",
    "The multimedia/mobile company you work for is currently attempting to transfer large media files from older disks to newer disks (on various servers). The task of simply copying over all of these files in any haphazard order is fairly straightforward; however, you believe that you can improve upon a haphazard approach and hope to improve the efficiency of storage space on the new disks. You have a collection of m disks, but you believe that if you smartly organize the media files onto the disks, you may not need to use all m disks.\n",
    "\n",
    "#### Part 1 ####\n",
    "- Design a greedy algorithm using pseudocode that solves this optimization problem of transferring files to disk while minimizing unused storage. The inputs to this algorithm are the number of files n, corresponding sizes (in MBs) s1, ... sn, m the number of disks, and corresponding storages amounts t1, ..., tm. The algorithm should return an array map[i] which contains the disk index of which the ith media file should be stored.\n",
    "- Comment your pseudocode for increased readability.\n",
    "\n",
    "#### Part 2 ####\n",
    "- Discuss the optimality of your algorithm. Is it guaranteed to return an optimal result?\n",
    "- What is the Big-O time complexity of this algorithm in terms of m and n? Justify your answer.\n",
    "\n",
    "#### Part 3 ####\n",
    "- If you were to solve this problem using a brute force or exhaustive search method, what would be the time complexity? Justify your response."
   ]
  },
  {
   "cell_type": "markdown",
   "metadata": {},
   "source": [
    "## Part 1: Greedy Algorithm PseudoCode ##\n",
    "\n",
    "__Assumptions__: \n",
    "    \n",
    "    1.) Initial Disk Storage size is the same across the disks\n",
    "    2.) One file size will not exceed the storage size for one disk (if all storage disks are 20MB no file will be larger than 20MB)"
   ]
  },
  {
   "cell_type": "markdown",
   "metadata": {},
   "source": [
    "//Takes an array of file sizes and an array of storage disk sizes, it checks to see if the file size is able to fit in the storage disk, if it does, it appends an empty array with the index of the storage disk.  If there is still \n",
    "available space then it outputs the same index of the storage disk, if there is not enough space it move one to the next storage disk\n",
    "\n",
    "//__Input__: An array of file sizes and array of disk sizes\n",
    "\n",
    "//__Output__: An array of the disk index of which ith file should be stored\n",
    "\n",
    "__Storage Index Function__ (file_array, disk_array):\n",
    "\n",
    "    file_array <-- sorted(file_array) by decreasing order\n",
    "\n",
    "    disk_counter <-- 0\n",
    "\n",
    "    disk_index <-- [ ] empty list\n",
    "\n",
    "        while len(file_list) > 0:\n",
    "    \n",
    "            //check to see if file is bigger than storage disk\n",
    "            if file_array[0] < disk_array[disk_counter]:\n",
    "        \n",
    "                //if file size is less than the storage disk, subtract file size from storage disk\n",
    "                disk_array[disk_counter] = disk_array[disk_counter] - file_array[0]\n",
    "            \n",
    "                //append the index of disk storage to disk index array\n",
    "                append disk_index with disk_counter\n",
    "            \n",
    "                //delete the file size from array\n",
    "                delete file_array[0]\n",
    "            \n",
    "             else:\n",
    "         \n",
    "                 //if file size is bigger than storage move on to next disk storage\n",
    "                 disk_counter =+ 1\n",
    "             \n",
    "         return disk_index\n"
   ]
  },
  {
   "cell_type": "markdown",
   "metadata": {},
   "source": [
    "#### Greedy Algorithm in Python ####"
   ]
  },
  {
   "cell_type": "code",
   "execution_count": 7,
   "metadata": {},
   "outputs": [],
   "source": [
    "import numpy as np \n",
    "np.random.seed(42)\n",
    "import random\n",
    "\n",
    "#Create File and Storage Disk Arrays\n",
    "files_list = random.sample(range(1,20), 5)\n",
    "disks_list = [20] * 5\n",
    "\n",
    "#Storage Index function\n",
    "def storage_index(list_files, list_disk):\n",
    "    file_list = sorted(list_files, reverse=True)\n",
    "    disk_counter = 0\n",
    "    disk_index = []\n",
    "    while len(file_list) > 0:\n",
    "        if file_list[0] < list_disk[disk_counter]:\n",
    "            list_disk[disk_counter] = list_disk[disk_counter] - file_list[0]\n",
    "            disk_index.append(disk_counter)\n",
    "            del(file_list[0])\n",
    "        else:\n",
    "            disk_counter = disk_counter + 1\n",
    "    return disk_index"
   ]
  },
  {
   "cell_type": "code",
   "execution_count": 8,
   "metadata": {},
   "outputs": [
    {
     "data": {
      "text/plain": [
       "[10, 12, 13, 11, 6]"
      ]
     },
     "execution_count": 8,
     "metadata": {},
     "output_type": "execute_result"
    }
   ],
   "source": [
    "files_list"
   ]
  },
  {
   "cell_type": "code",
   "execution_count": 9,
   "metadata": {},
   "outputs": [
    {
     "data": {
      "text/plain": [
       "[20, 20, 20, 20, 20]"
      ]
     },
     "execution_count": 9,
     "metadata": {},
     "output_type": "execute_result"
    }
   ],
   "source": [
    "disks_list"
   ]
  },
  {
   "cell_type": "code",
   "execution_count": 10,
   "metadata": {},
   "outputs": [
    {
     "data": {
      "text/plain": [
       "[0, 1, 2, 3, 3]"
      ]
     },
     "execution_count": 10,
     "metadata": {},
     "output_type": "execute_result"
    }
   ],
   "source": [
    "storage_index(files_list, disks_list)"
   ]
  },
  {
   "cell_type": "markdown",
   "metadata": {},
   "source": [
    "The largest file is 13 and will be stored in disk storage 0.\n",
    "\n",
    "There is not enough space in disk storage 0 for file 12 so it goes in disk storage 1.\n",
    "\n",
    "There is not enough space in disk storage 1 for file 11 so it goes in disk storage 2.\n",
    "\n",
    "There is not enough space in disk storage 2 for file 10, so it goes in disk storage 3.\n",
    "\n",
    "There is still enough space in disk storage 3 for file 6, so it goes in disk storage 3.\n",
    "\n",
    "Disk storage 4 can be given back for a refund.  "
   ]
  },
  {
   "cell_type": "markdown",
   "metadata": {},
   "source": [
    "## Part 2: Optimality and Time Complexity ##\n",
    "\n",
    "1. With the associated assumptions, this algorithm is guaranteed to reach the global optimum.  It always uses the least amount of disk storage.  By sorting the file sizes in decreasing order, it ensures that the biggest files are housed first.  \n",
    "\n",
    "\n",
    "2. The time complexity for this algorithm is O(n).  If the length of the file size array is represented by n, the while loop is conducted n times.  So the time complexity is linear with a O(n) time complexity.  "
   ]
  },
  {
   "cell_type": "markdown",
   "metadata": {},
   "source": [
    "## Part 3: Alternative Method Time Complexity ##"
   ]
  },
  {
   "cell_type": "markdown",
   "metadata": {},
   "source": [
    "Sequential search and exhaustive search algorithms fall under the category of brute force.  If I used a sequential search algorithm, I would have similar time complexity of O(n).  But if I used an exhaustive search, the time complexity would be O(n!), which is not good.  "
   ]
  },
  {
   "cell_type": "code",
   "execution_count": null,
   "metadata": {},
   "outputs": [],
   "source": []
  }
 ],
 "metadata": {
  "kernelspec": {
   "display_name": "Python 3",
   "language": "python",
   "name": "python3"
  },
  "language_info": {
   "codemirror_mode": {
    "name": "ipython",
    "version": 3
   },
   "file_extension": ".py",
   "mimetype": "text/x-python",
   "name": "python",
   "nbconvert_exporter": "python",
   "pygments_lexer": "ipython3",
   "version": "3.6.5"
  }
 },
 "nbformat": 4,
 "nbformat_minor": 2
}
