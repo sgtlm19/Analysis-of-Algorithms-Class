{
 "cells": [
  {
   "cell_type": "markdown",
   "metadata": {},
   "source": [
    "# Analysis of Algorithms Individual Project 4 #"
   ]
  },
  {
   "cell_type": "markdown",
   "metadata": {},
   "source": [
    "### By Lorenz Madarang ###"
   ]
  },
  {
   "cell_type": "markdown",
   "metadata": {},
   "source": [
    "#### Prompt ####\n",
    "Your algorithms group has been tasked with creating an app that performs special operations on images. Specifically, your app will compare one black-and-white image into another black-and-white image. There are a number of methods that can be used to perform this task, but your group has agreed that using dynamic programming is a fast and elegant scheme to solve this problem.\n",
    "\n",
    "Design an algorithm (using pseudocode) that takes in as an input, two 2-D int arrays that are assumed to be 2 black-and-white images: initialImage x, whose dimensions are IxJ, and finalImage y, whose dimensions are IxK. The algorithm will compare x to the y, row-by-row, as defined below. Your algorithm will employ a dynamic programming scheme to compare X to Y identifying the minimal difference between each row.\n",
    "\n",
    "Because you are working with black-and-white images only, you should assume that each image is a 2-D int array consisting of 2 possible values: 0 or 1, where 0 represents black and 1 represents white. Thus, this 2-D grid of 0 and 1 values comprise a 2-D black-and-white image. Each row of this image is then simply a 1-D int array filled with either 0s or 1s. Therefore, you must define how you will measure the difference between the strings of 0s and 1s in each row.\n",
    "\n",
    "#### Part 1 ####\n",
    "Design pseudocode for the image comparison algorithm discussed above, given input Images X, Y, and thresh. The output is a declaration: The images are similar, or The images are different.\n",
    "\n",
    "#### Part 2 ####\n",
    "Discuss the optimality of the dynamic programming solution. Discuss the time complexity of this algorithm in terms of the size of the inputs X and Y."
   ]
  },
  {
   "cell_type": "markdown",
   "metadata": {},
   "source": [
    "## Part 1 : Pseudocode for Image Compare ##"
   ]
  },
  {
   "cell_type": "markdown",
   "metadata": {},
   "source": [
    "__Assumption__: The image arrays are of the same shape and dimension"
   ]
  },
  {
   "cell_type": "markdown",
   "metadata": {},
   "source": [
    "//The algorithm takes in two image arrays and a threshold score of similarity.  The algorithm compares the image array rows and calculates the difference between the rows.  A distance matrix is created with the row differences.  The total difference is calculated by adding the row differences when the same row index was being compared between the two image arrays.  If the total difference is above the threshold score of similarity then the algorithm outputs 'not similar,' otherwise the algorithm will output 'similar.'\n",
    "\n",
    "//__Input__: Two image arrays of the same dimension and a threshold score\n",
    "\n",
    "//__Output__: Algorithm will output 'not similar' if they are different and 'similar' if they are similar\n",
    "\n",
    "__Image Compare Function__ (array1, array2, score):\n",
    "\n",
    "    //Create empty matrix that has the number of rows of array1 by number of rows of array1\n",
    "    distance_matrix <-- empty_matrix(array1_rows by array1_rows)\n",
    "    \n",
    "    //Create an empty list that will hold the differences of the comparison between the same row index\n",
    "    total_diff <-- empty list\n",
    "    \n",
    "    //Iterate through all rows of array1 and array2\n",
    "    for i in range(0, array1_rows):\n",
    "        for j in range(0, array2_rows):\n",
    "            \n",
    "            //Calculate the difference between the rows, sum it, and return absolute value\n",
    "            row_diff <-- absolute_value(sum(array1[row i] - array2[row j])\n",
    "            \n",
    "            //Append row difference to distance matrix, fill matrix from left to right across the row, and then down\n",
    "            distance_matrix[i,j] <-- row_diff\n",
    "            \n",
    "            //If the comparison is between the same row index append to the total difference list\n",
    "            if i == j:\n",
    "                append row_diff to total_diff\n",
    "                \n",
    "    //If the sum of the total differences list is greater than the threshold score return 'not similar'            \n",
    "    if sum(total_diff) >= score:\n",
    "        decision = 'not similar'\n",
    "    else:\n",
    "        decision = 'similar'\n",
    "    return decision "
   ]
  },
  {
   "cell_type": "markdown",
   "metadata": {},
   "source": [
    "### Python Code Implementation ###"
   ]
  },
  {
   "cell_type": "code",
   "execution_count": 1,
   "metadata": {},
   "outputs": [],
   "source": [
    "import numpy as np\n",
    "import matplotlib.pyplot as plt\n",
    "from timeit import default_timer as timer"
   ]
  },
  {
   "cell_type": "code",
   "execution_count": 2,
   "metadata": {},
   "outputs": [
    {
     "data": {
      "text/plain": [
       "0"
      ]
     },
     "execution_count": 2,
     "metadata": {},
     "output_type": "execute_result"
    }
   ],
   "source": [
    "np.random.randint(0,1)"
   ]
  },
  {
   "cell_type": "code",
   "execution_count": 3,
   "metadata": {},
   "outputs": [],
   "source": [
    "array1 = np.array([[np.random.randint(0,2)]*5, [np.random.randint(0,2)] * 5, [np.random.randint(0,2)] * 5])"
   ]
  },
  {
   "cell_type": "code",
   "execution_count": 4,
   "metadata": {},
   "outputs": [],
   "source": [
    "array2 = np.array([[np.random.randint(0,2)]*5, [np.random.randint(0,2)] * 5, [np.random.randint(0,2)] * 5])"
   ]
  },
  {
   "cell_type": "code",
   "execution_count": 5,
   "metadata": {},
   "outputs": [],
   "source": [
    "def img_compare(array1,array2,threshold):\n",
    "    distance_matrix = np.array([[None]*array1.shape[0]]*array1.shape[0])\n",
    "    total_diff = []\n",
    "    for i in range(0, array1.shape[0]):\n",
    "        for j in range(0, array2.shape[0]):\n",
    "            row_diff = abs(np.sum(array1[i,:] - array2[j,:]))\n",
    "            distance_matrix[i,j] = row_diff\n",
    "            if i == j:\n",
    "                total_diff.append(row_diff)\n",
    "    if sum(total_diff) >= threshold:\n",
    "        decision = 'not similar'\n",
    "    else:\n",
    "        decision = 'similar'\n",
    "    return distance_matrix, decision\n"
   ]
  },
  {
   "cell_type": "markdown",
   "metadata": {},
   "source": [
    "#### Comparison of different images ####"
   ]
  },
  {
   "cell_type": "code",
   "execution_count": 6,
   "metadata": {},
   "outputs": [
    {
     "data": {
      "text/plain": [
       "(array([[5, 5, 0],\n",
       "        [0, 0, 5],\n",
       "        [5, 5, 0]], dtype=object), 'not similar')"
      ]
     },
     "execution_count": 6,
     "metadata": {},
     "output_type": "execute_result"
    }
   ],
   "source": [
    "img_compare(array1,array2,5)"
   ]
  },
  {
   "cell_type": "code",
   "execution_count": 7,
   "metadata": {},
   "outputs": [
    {
     "data": {
      "text/plain": [
       "array([[1, 1, 1, 1, 1],\n",
       "       [0, 0, 0, 0, 0],\n",
       "       [1, 1, 1, 1, 1]])"
      ]
     },
     "execution_count": 7,
     "metadata": {},
     "output_type": "execute_result"
    }
   ],
   "source": [
    "array1"
   ]
  },
  {
   "cell_type": "code",
   "execution_count": 8,
   "metadata": {},
   "outputs": [
    {
     "data": {
      "text/plain": [
       "array([[0, 0, 0, 0, 0],\n",
       "       [0, 0, 0, 0, 0],\n",
       "       [1, 1, 1, 1, 1]])"
      ]
     },
     "execution_count": 8,
     "metadata": {},
     "output_type": "execute_result"
    }
   ],
   "source": [
    "array2"
   ]
  },
  {
   "cell_type": "markdown",
   "metadata": {},
   "source": [
    "#### Comparison of similar images ####"
   ]
  },
  {
   "cell_type": "code",
   "execution_count": 9,
   "metadata": {},
   "outputs": [],
   "source": [
    "array3 = np.array([[0]*5, [1]*5, [1] *5])"
   ]
  },
  {
   "cell_type": "code",
   "execution_count": 10,
   "metadata": {},
   "outputs": [],
   "source": [
    "array4 = np.array([[0]*5, [1]*5, [1] *5])"
   ]
  },
  {
   "cell_type": "code",
   "execution_count": 11,
   "metadata": {},
   "outputs": [
    {
     "data": {
      "text/plain": [
       "(array([[0, 5, 5],\n",
       "        [5, 0, 0],\n",
       "        [5, 0, 0]], dtype=object), 'similar')"
      ]
     },
     "execution_count": 11,
     "metadata": {},
     "output_type": "execute_result"
    }
   ],
   "source": [
    "img_compare(array3, array4, 5)"
   ]
  },
  {
   "cell_type": "code",
   "execution_count": 12,
   "metadata": {},
   "outputs": [
    {
     "data": {
      "text/plain": [
       "array([[0, 0, 0, 0, 0],\n",
       "       [1, 1, 1, 1, 1],\n",
       "       [1, 1, 1, 1, 1]])"
      ]
     },
     "execution_count": 12,
     "metadata": {},
     "output_type": "execute_result"
    }
   ],
   "source": [
    "array3"
   ]
  },
  {
   "cell_type": "code",
   "execution_count": 13,
   "metadata": {},
   "outputs": [
    {
     "data": {
      "text/plain": [
       "array([[0, 0, 0, 0, 0],\n",
       "       [1, 1, 1, 1, 1],\n",
       "       [1, 1, 1, 1, 1]])"
      ]
     },
     "execution_count": 13,
     "metadata": {},
     "output_type": "execute_result"
    }
   ],
   "source": [
    "array4"
   ]
  },
  {
   "cell_type": "markdown",
   "metadata": {},
   "source": [
    "## Part 2: Optimality and Time Complexity Analysis ##"
   ]
  },
  {
   "cell_type": "markdown",
   "metadata": {},
   "source": [
    "#### Optimality ####\n",
    "According to the Principle of Optimality, a problem qualifies for a dynamic programming solution if the “…the sub-solutions of an optimal solution of the problem are themselves optimal solutions for their sub-problems” (George Washington University, n.d.).  In the problem of comparing two image arrays, we can break down the image arrays into sub-problems.  This is done by breaking down the comparison of the overall image arrays into a comparison of the array rows.  \n",
    "\n",
    "#### Time Complexity Analysis ####\n",
    "The time complexity for this algorithm is O(n).  The time complexity increases linearly as the number of rows in the image arrays (X,Y) increases.  "
   ]
  },
  {
   "cell_type": "code",
   "execution_count": 14,
   "metadata": {},
   "outputs": [],
   "source": [
    "import matplotlib.pyplot as plt\n",
    "from timeit import default_timer as timer\n",
    "def plotTime(arraySizes):\n",
    "    \n",
    "    \"\"\" Takes an array of array sizes, iterates through the array and runs the img_compare function for each array size.\n",
    "        An array is created with the designated size and with unique random numbers within the range of the array size.\n",
    "        The time to complete the function is recorded an input in a list.  Finally, a plot is created showing the \n",
    "        relationship between the time it takes to complete the reverseList function and an array's size.\"\"\"\n",
    "    \n",
    "    times = []                                   #Create empty array for times\n",
    "    \n",
    "    for i in arraySizes:\n",
    "        array1 = np.array([[np.random.randint(0,2)]*i]*i)\n",
    "        array2 = np.array([[np.random.randint(0,2)]*i]*i)\n",
    "        start = timer()                          #Start timer\n",
    "        img_compare(array1,array2,5)             #Perform img_compare function\n",
    "        end = timer()                            #End timer\n",
    "        times.append(end - start)                #Append the time it takes to complete function to 'times' array\n",
    "    \n",
    "    #Create Plot with array size on x-axis and times on the y-axis\n",
    "    x = arraySizes\n",
    "    y = times\n",
    "    plt.title('Time vs. Array Size')\n",
    "    plt.xlabel('Array Size')\n",
    "    plt.ylabel('Time, seconds ')\n",
    "    plt.plot(x,y)\n",
    "    plt.show()    "
   ]
  },
  {
   "cell_type": "code",
   "execution_count": 15,
   "metadata": {},
   "outputs": [],
   "source": [
    "size = [2,3,4,5,6,7,8,9,10]\n",
    "size1 = [5,10,15,20,25,30,35]"
   ]
  },
  {
   "cell_type": "code",
   "execution_count": 16,
   "metadata": {},
   "outputs": [
    {
     "data": {
      "image/png": "[encoded data removed]",
      "text/plain": [
       "<Figure size 432x288 with 1 Axes>"
      ]
     },
     "metadata": {},
     "output_type": "display_data"
    }
   ],
   "source": [
    "plotTime(size)"
   ]
  },
  {
   "cell_type": "code",
   "execution_count": null,
   "metadata": {},
   "outputs": [],
   "source": []
  }
 ],
 "metadata": {
  "kernelspec": {
   "display_name": "Python 3",
   "language": "python",
   "name": "python3"
  },
  "language_info": {
   "codemirror_mode": {
    "name": "ipython",
    "version": 3
   },
   "file_extension": ".py",
   "mimetype": "text/x-python",
   "name": "python",
   "nbconvert_exporter": "python",
   "pygments_lexer": "ipython3",
   "version": "3.6.5"
  }
 },
 "nbformat": 4,
 "nbformat_minor": 2
}
