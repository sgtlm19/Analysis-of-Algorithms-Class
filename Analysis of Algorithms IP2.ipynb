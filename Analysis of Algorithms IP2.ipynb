{
 "cells": [
  {
   "cell_type": "markdown",
   "metadata": {},
   "source": [
    "# Analysis of Algorithms Individual Project 2#"
   ]
  },
  {
   "cell_type": "markdown",
   "metadata": {},
   "source": [
    "### By Lorenz Madarang ###"
   ]
  },
  {
   "cell_type": "markdown",
   "metadata": {},
   "source": [
    "#### Part 1 ####\n",
    "Code a search algorithm that searches a list of strings for a particular song. The searching algorithm will have two inputs: the playlist, which is a string array that contains a list of songs in alphabetical order; and a particular song, which is a string. If the song is found in the list, the algorithm will return the index of the song, and it will return -1 otherwise.\n",
    "\n",
    "This searching algorithm will employ a divide-and-conquer approach similar to that in binary search, but with a slight variation. In binary search, a list is split in 2 sublists during each step; however, for your assignment, you will build and algorithm that splits the list into 3 sublists during each step."
   ]
  },
  {
   "cell_type": "markdown",
   "metadata": {},
   "source": [
    "#### Part 2 ####\n",
    "What is the time complexity (in Big-O notation) of your algorithm with respect to the size of the playlist?  \n",
    "\n",
    "How does this time complexity compare to the time complexity of binary search (in terms of Big-O)?"
   ]
  },
  {
   "cell_type": "markdown",
   "metadata": {},
   "source": [
    "### Part 1: Ternary Search Algorithm ###"
   ]
  },
  {
   "cell_type": "code",
   "execution_count": 1,
   "metadata": {},
   "outputs": [],
   "source": [
    "#Code taken from https://iq.opengenus.org/ternary-search-algorithm/\n",
    "def ternarySearch(arr, to_find):\n",
    "    \n",
    "    \"\"\" Takes in a sorted array and then divides the array into three sub-lists and continues to break it down into \n",
    "        sub-lists until it is at its smallest element and then finds the to_find object in the array and returns\n",
    "        index of the to_find object.  It returns a -1 if it doesn't find object. \"\"\"\n",
    "    \n",
    "    #Set left pointer to 0 and right pointer to the length of array - 1\n",
    "    left = 0\n",
    "    right = len(arr) - 1\n",
    "    \n",
    "    while left <= right:\n",
    "        \n",
    "        #Set temp2 variable to the upper boundary of the first third sublist\n",
    "        #Set temp3 variable to the upper boundary of the second third sublist\n",
    "        temp2 = left + (right - left) // 3\n",
    "        temp3 = left + 2 * (right - left) // 3\n",
    "        \n",
    "        #Return the object of the first or last object in the array if it matches the to_find object\n",
    "        if to_find == arr[left]:\n",
    "            return left\n",
    "        elif to_find == arr[right]:\n",
    "            return right\n",
    "        \n",
    "        #Returns -1 if the object is less than first object or greater than last object\n",
    "        elif to_find < arr[left] or to_find > arr[right]:    \n",
    "            return -1\n",
    "        \n",
    "        #If to_find object is less than object at the upper boundary of the first third sublist, isolate that sublist\n",
    "        elif to_find <= arr[temp2]:\n",
    "            right = temp2\n",
    "        \n",
    "        #If to_find object is greater than object at the upper boundary of the first third sublist, and\n",
    "        #less than the object at the upper boundary of the second third sublist, isolate that sublist\n",
    "        elif to_find > arr[temp2] and to_find <= arr[temp3]:\n",
    "            left = temp2 + 1\n",
    "            right = temp3\n",
    "            \n",
    "        #to_find object is in the last third sublist, isolate that sublist\n",
    "        else:\n",
    "            left = temp3 + 1\n",
    "    return -1\n"
   ]
  },
  {
   "cell_type": "code",
   "execution_count": 2,
   "metadata": {},
   "outputs": [],
   "source": [
    "#Assign variables to test algorithm\n",
    "arr = [\"Fair Enough\", \"Viaduct\", \"Dinosaur\", \"Invisible\", \"Silver\", \"Erase\", \"Lighthouse\"]\n",
    "arr = sorted(arr)\n",
    "to_find = \"Dinosaur\""
   ]
  },
  {
   "cell_type": "code",
   "execution_count": 3,
   "metadata": {},
   "outputs": [
    {
     "name": "stdout",
     "output_type": "stream",
     "text": [
      "['Dinosaur', 'Erase', 'Fair Enough', 'Invisible', 'Lighthouse', 'Silver', 'Viaduct']\n"
     ]
    }
   ],
   "source": [
    "print(arr)"
   ]
  },
  {
   "cell_type": "code",
   "execution_count": 4,
   "metadata": {},
   "outputs": [
    {
     "name": "stdout",
     "output_type": "stream",
     "text": [
      "Element is present at index 0\n"
     ]
    }
   ],
   "source": [
    "#Test Ternary Search algorithm\n",
    "result = ternarySearch(arr, to_find)\n",
    "\n",
    "if result != -1:\n",
    "    print(\"Element is present at index {}\".format(result))\n",
    "else:\n",
    "    print(\"Element is not present in array\")"
   ]
  },
  {
   "cell_type": "markdown",
   "metadata": {},
   "source": [
    "### Part 2: Time Complexity Analysis"
   ]
  },
  {
   "cell_type": "markdown",
   "metadata": {},
   "source": [
    "The time complexity for the ternary search algorithm as a function of size of the playlist is t(n) = O(log n).  This time complexity is the same as the time complexity for binary search.  "
   ]
  },
  {
   "cell_type": "code",
   "execution_count": null,
   "metadata": {},
   "outputs": [],
   "source": []
  }
 ],
 "metadata": {
  "kernelspec": {
   "display_name": "Python 3",
   "language": "python",
   "name": "python3"
  },
  "language_info": {
   "codemirror_mode": {
    "name": "ipython",
    "version": 3
   },
   "file_extension": ".py",
   "mimetype": "text/x-python",
   "name": "python",
   "nbconvert_exporter": "python",
   "pygments_lexer": "ipython3",
   "version": "3.6.5"
  }
 },
 "nbformat": 4,
 "nbformat_minor": 2
}
