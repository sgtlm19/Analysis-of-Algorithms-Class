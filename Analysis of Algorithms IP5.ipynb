{
 "cells": [
  {
   "cell_type": "markdown",
   "metadata": {},
   "source": [
    "# Analysis of Algorithms Individual Project 5 #"
   ]
  },
  {
   "cell_type": "markdown",
   "metadata": {},
   "source": [
    "### By Lorenz Madarang ###"
   ]
  },
  {
   "cell_type": "markdown",
   "metadata": {},
   "source": [
    "#### Prompt ####\n",
    "Your company has asked your team to design an app that will complete a Sudoku game, given any starting state of the game. See this Web site for the rules.\n",
    "\n",
    "#### Part 1 ####\n",
    "\n",
    "#### a. State Space ####\n",
    "- Describe how you plan to search for the Sudoku solution given a starting state.\n",
    "- Clearly define your state space here: What does a vertex in your state traversal tree represent?\n",
    "\n",
    "#### b. Traversal Time Complexity ####\n",
    "- Assuming you were to naively traverse your state space, what is the upperbound time complexity (in terms of Big-O) of a brute force searching algorithm?\n",
    "- Present this result in terms of n and p where nxn is the size of the Sudoku board and p is the number of possible numbers (1–9) permitted in a square.\n",
    "\n",
    "#### c. Heuristic Search####\n",
    "- What type of heuristic search would you employ to search this state space in hopes to reduce the search time?\n",
    "- Think about the problem and how you might search this state-space tree.\n",
    "\n",
    "#### Part 2 ####\n",
    "- Create pseudocode that finds the solution to a Sudoku game using a brute force search or using your heuristic discussed above.\n",
    "- Python code implementation\n",
    "\n"
   ]
  },
  {
   "cell_type": "markdown",
   "metadata": {},
   "source": [
    "## Part 1 ##"
   ]
  },
  {
   "cell_type": "markdown",
   "metadata": {},
   "source": [
    "### a. State Space ###\n",
    "My overall plan to search for a Sudoku solution given a starting state is to iterate through the first row of the puzzle, fill in the empty squares and iterate through to rest of the rows until complete.  Go through the columns to make sure that the solutions for the columns are correct.  If I implemented this plan, the first vertices would represent the possible solutions for the first row, and the child nodes of those vertices would represent the possible solutions the second row, and the child nodes of those vertices would be the solutions to the third row and so on.  \n",
    "\n",
    "### b. Traversal Time Complexity ###\n",
    "The upper bound for a brute for search algorithm timecomplexity would be O(n^2p).  The terms of n and p represent the nxn size of the Sudoku board and p is the number of possible numbers.  The traditional sudoku challenge is nine squares long and nine squares wide (9x9) so n would need to be squared to find how many individual squares are there in the board.  So we would need to through all possible numbers (p) for each individual square on the board (n^2).  That is why the brute force search time complexity is O(n^2p).  \n",
    "\n",
    "### c. Heuristic Search ###\n",
    "The type of Heuristic Search that I would use to solve the Sudoku challenge is a back-tracking search that is able to back track through the state spaces and revise the numbers in the square when it doesn't arrive at the global solution state space.  "
   ]
  },
  {
   "cell_type": "markdown",
   "metadata": {},
   "source": [
    "## Part 2 ##"
   ]
  },
  {
   "cell_type": "markdown",
   "metadata": {},
   "source": [
    "### Pseudocode ###"
   ]
  },
  {
   "cell_type": "markdown",
   "metadata": {},
   "source": [
    "//__Input__: A Sudoku board (9 list integer lists, 9 elements long), row index i, and column index j\n",
    "\n",
    "//__Output__: The square at index at i,j where there is blank square denoted with 0 or -1, -1 if there are no blanks\n",
    "\n",
    "__FindBlankCell__ (board, i, j):\n",
    "    \n",
    "    //Iterate through rows and columns of sudoku board to find zero and then output location of blank square\n",
    "    for x in range(i,9):\n",
    "                for y in range(j,9):\n",
    "                        if board[x][y] == 0:\n",
    "                                return x,y\n",
    "                                \n",
    "    //Iterate and check to make sure board has no zeroes                             \n",
    "    for x in range(0,9):\n",
    "                for y in range(0,9):\n",
    "                        if board[x][y] == 0:\n",
    "                                return x,y\n",
    "    \n",
    "    //Return -1, -1 if there are no blanks on the board\n",
    "    return -1, -1\n",
    "\n",
    "//__Input__: A Sudoku board, row index i, and column index j, a number (e) to be checked \n",
    "\n",
    "//__Output__: 'True' if e is not present in row, column or 3x3 square where blank square was found, 'False' otherwise\n",
    "\n",
    "__NumberValid__ (board, i, j, e):\n",
    "\n",
    "    //Find if e is present in the row i\n",
    "    rowOK <-- True, if e not present in row i\n",
    "        if True:\n",
    "                //Find if e is present in the column j\n",
    "                columnOk <-- True, if e not present in column j\n",
    "                if True:\n",
    "                        //Find the top left x,y co-ordinates of the 3x3 section containing the i,j square\n",
    "                        secTopX, secTopY <-- 3 *(i//3), 3 *(j//3) //Floored quotient i and j divided by 3\n",
    "                        //Iterate through 3x3 section and find if e is present\n",
    "                        for x in range(secTopX, secTopX+3):\n",
    "                                for y in range(secTopY, secTopY+3):\n",
    "                                        if board[x][y] == e:\n",
    "                                                return False\n",
    "                        return True\n",
    "        return False\n",
    " \n",
    " //__Input__: A Sudoku board, row index i starting at 0, and column index j starting at 0\n",
    "\n",
    "//__Output__: 'True' if Sudoku board has been solved, 'False' otherwise\n",
    "\n",
    "__SudokuSolver__ (board, i, j):\n",
    "\n",
    "\n",
    "    //Find blank square and get coordinates \n",
    "    i,j <-- findNextCellToFill(grid, i, j)\n",
    "        if i == -1:\n",
    "                return True\n",
    "        //Iterate through all possible numbers (1-9) and input the number in the blank square if it is not present \n",
    "        //in the row, column, and 3x3 section (in that order).  Input a 0 for back tracking purposes to reiterate \n",
    "        //through Sudoku board\n",
    "        for e in range(1,10):\n",
    "                if isValid(grid,i,j,e):\n",
    "                        grid[i][j] <-- e\n",
    "                        if solveSudoku(grid, i, j):\n",
    "                                return True\n",
    "                        # Undo the current cell for backtracking\n",
    "                        grid[i][j] <-- 0\n",
    "        return False"
   ]
  },
  {
   "cell_type": "markdown",
   "metadata": {},
   "source": [
    "### Python Code implementation ###\n",
    "code from https://stackoverflow.com/questions/1697334/algorithm-for-solving-sudoku"
   ]
  },
  {
   "cell_type": "code",
   "execution_count": 1,
   "metadata": {},
   "outputs": [],
   "source": [
    "def findNextCellToFill(grid, i, j):\n",
    "    \n",
    "    \"\"\" This function goes through each square in a Sudoku a board and finds if there is a blank square\n",
    "        which is noted by a '0' \"\"\"\n",
    "    \n",
    "    for x in range(i,9):\n",
    "            for y in range(j,9):\n",
    "                    if grid[x][y] == 0:\n",
    "                            return x,y\n",
    "    for x in range(0,9):\n",
    "            for y in range(0,9):\n",
    "                    if grid[x][y] == 0:\n",
    "                            return x,y\n",
    "    return -1,-1\n",
    "\n",
    "def isValid(grid, i, j, e):\n",
    "    \n",
    "    \"\"\" This function goes through checks to see if the number (e) is not present in its row, column, and \n",
    "        3x3 square where the blank square was found (in that order) \"\"\"\n",
    "    \n",
    "    rowOk = all([e != grid[i][x] for x in range(9)])\n",
    "    if rowOk:\n",
    "            columnOk = all([e != grid[x][j] for x in range(9)])\n",
    "            if columnOk:\n",
    "                    # finding the top left x,y co-ordinates of the section containing the i,j cell\n",
    "                    secTopX, secTopY = 3 *(i//3), 3 *(j//3) #floored quotient should be used here. \n",
    "                    for x in range(secTopX, secTopX+3):\n",
    "                            for y in range(secTopY, secTopY+3):\n",
    "                                    if grid[x][y] == e:\n",
    "                                            return False\n",
    "                    return True\n",
    "    return False\n",
    "\n",
    "def solveSudoku(grid, i=0, j=0):\n",
    "    \n",
    "    \"\"\" This function goes through a Sudoku board finds a blank square and then inputs a number not present\n",
    "        in the column, row, and 3x3 square where the blank square was found.  It iterates through the board\n",
    "        until column, row, and 3x3 square originality requirements have been meet for all individual squares.  \n",
    "        If a number was input that does not meet the column, row, and 3x3 square orginality requirement it\n",
    "        inputs a 0 to annotat a place to back track.  If the Sudoku challenge is solved it will return \n",
    "        True. \"\"\"\n",
    "    \n",
    "    i,j = findNextCellToFill(grid, i, j)\n",
    "    if i == -1:\n",
    "            return True\n",
    "    for e in range(1,10):\n",
    "            if isValid(grid,i,j,e):\n",
    "                    grid[i][j] = e\n",
    "                    if solveSudoku(grid, i, j):\n",
    "                            return True\n",
    "                    # Undo the current cell for backtracking\n",
    "                    grid[i][j] = 0\n",
    "    return False"
   ]
  },
  {
   "cell_type": "code",
   "execution_count": 2,
   "metadata": {},
   "outputs": [
    {
     "data": {
      "text/plain": [
       "[[5, 1, 7, 6, 0, 0, 0, 3, 4],\n",
       " [2, 8, 9, 0, 0, 4, 0, 0, 0],\n",
       " [3, 4, 6, 2, 0, 5, 0, 9, 0],\n",
       " [6, 0, 2, 0, 0, 0, 0, 1, 0],\n",
       " [0, 3, 8, 0, 0, 6, 0, 4, 7],\n",
       " [0, 0, 0, 0, 0, 0, 0, 0, 0],\n",
       " [0, 9, 0, 0, 0, 0, 0, 7, 8],\n",
       " [7, 0, 3, 4, 0, 0, 5, 6, 0],\n",
       " [0, 0, 0, 0, 0, 0, 0, 0, 0]]"
      ]
     },
     "execution_count": 2,
     "metadata": {},
     "output_type": "execute_result"
    }
   ],
   "source": [
    "input = [[5,1,7,6,0,0,0,3,4],[2,8,9,0,0,4,0,0,0],[3,4,6,2,0,5,0,9,0],[6,0,2,0,0,0,0,1,0],[0,3,8,0,0,6,0,4,7],[0,0,0,0,0,0,0,0,0],[0,9,0,0,0,0,0,7,8],[7,0,3,4,0,0,5,6,0],[0,0,0,0,0,0,0,0,0]]\n",
    "input "
   ]
  },
  {
   "cell_type": "code",
   "execution_count": 3,
   "metadata": {},
   "outputs": [
    {
     "data": {
      "text/plain": [
       "True"
      ]
     },
     "execution_count": 3,
     "metadata": {},
     "output_type": "execute_result"
    }
   ],
   "source": [
    "solveSudoku(input)"
   ]
  },
  {
   "cell_type": "code",
   "execution_count": 4,
   "metadata": {},
   "outputs": [
    {
     "data": {
      "text/plain": [
       "[[5, 1, 7, 6, 9, 8, 2, 3, 4],\n",
       " [2, 8, 9, 1, 3, 4, 7, 5, 6],\n",
       " [3, 4, 6, 2, 7, 5, 8, 9, 1],\n",
       " [6, 7, 2, 8, 4, 9, 3, 1, 5],\n",
       " [1, 3, 8, 5, 2, 6, 9, 4, 7],\n",
       " [9, 5, 4, 7, 1, 3, 6, 8, 2],\n",
       " [4, 9, 5, 3, 6, 2, 1, 7, 8],\n",
       " [7, 2, 3, 4, 8, 1, 5, 6, 9],\n",
       " [8, 6, 1, 9, 5, 7, 4, 2, 3]]"
      ]
     },
     "execution_count": 4,
     "metadata": {},
     "output_type": "execute_result"
    }
   ],
   "source": [
    "input"
   ]
  },
  {
   "cell_type": "code",
   "execution_count": null,
   "metadata": {},
   "outputs": [],
   "source": []
  }
 ],
 "metadata": {
  "kernelspec": {
   "display_name": "Python 3",
   "language": "python",
   "name": "python3"
  },
  "language_info": {
   "codemirror_mode": {
    "name": "ipython",
    "version": 3
   },
   "file_extension": ".py",
   "mimetype": "text/x-python",
   "name": "python",
   "nbconvert_exporter": "python",
   "pygments_lexer": "ipython3",
   "version": "3.6.5"
  }
 },
 "nbformat": 4,
 "nbformat_minor": 2
}
